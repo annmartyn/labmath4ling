{
 "cells": [
  {
   "cell_type": "markdown",
   "metadata": {},
   "source": [
    "В первую очередь определимся, что на вход мы принимаем файл - пусть для начала один. Для выполения задания важно понять, в каком виде изначально хранится комикс. \n",
    "Представим, что формат примерно файл со списками. Здесь страница представлена одной строкой - списком, каждый рисунок - списком. Внутри списка (рисунка) находятся элементы (графические и текстовые), при этом графиечский элемент указывается в виде ссылки. Рассмотрим на примере:\n",
    "[[[https, '15.15', '40,45'],[\"boom\", '20.35', '35.40']], [['https1', '40.45', 60.69]]]\n",
    "[[[https2], ['boom', 20.20, 40.45]]]\n",
    "Здесь представлен комикс из двух страниц (две строки), на первой два изображения, первое состоит из картинки и надписи \"boom\", второе только из картинки. на второй странице всего одна картинка, в которой только графическое изображение.\n",
    "При этом каждый раз, когда мы натыкаемся на надпись/картинку, мы добавляем её в список frag. Потом мы пройдёмся по списку каунтером, чтобы посчитать, какие элементы встречаются чаще двух раз.\n",
    "Возвращаем само дерево и список элементов, распредленных по частотности."
   ]
  },
  {
   "cell_type": "code",
   "execution_count": 2,
   "metadata": {},
   "outputs": [
    {
     "name": "stdout",
     "output_type": "stream",
     "text": [
      "[[[https, 15.15, 40,45], [\"boom\", 20.35, 35.40]], [[https1, 40.45, 60.69]]]\n",
      "\n",
      "[[[https2], ['boom', 20.20, 40.45]]]\n"
     ]
    }
   ],
   "source": [
    "import collections\n",
    "\n",
    "\n",
    "def comicsTree(comics):\n",
    "    with open(comics, 'r', encoding='utf-8') as com:\n",
    "        comdata = com.readlines() #здесь мы получаем список из страниц комиксов\n",
    "        pretree = []\n",
    "        frag = []\n",
    "        for page in comdata:\n",
    "            dict0 = {}\n",
    "            dict1 = {}\n",
    "            dict2 = {}\n",
    "            all_elem = []\n",
    "            for ris in page:\n",
    "                dicts = []\n",
    "                for elem in ris:\n",
    "                    dict0 = {elem[0]: elem[1] + '|' + elem[2]}\n",
    "                    frag.append(elem[0])\n",
    "                    dicts.append(dict0)\n",
    "                dict1 = {page.index(ris) + 1: dicts}\n",
    "                all_elem.append(dict1)\n",
    "            dict2 = {comdata.index(page) + 1: dicts}\n",
    "            pretree.apppend(dict2)\n",
    "        Tree = {\"^\": pretree}\n",
    "        el = collections.Counter(frag)\n",
    "    return Tree, el"
   ]
  },
  {
   "cell_type": "code",
   "execution_count": 36,
   "metadata": {},
   "outputs": [
    {
     "name": "stdout",
     "output_type": "stream",
     "text": [
      "{'^': [{1: [{1: [{'https': '15.15|40.45'}, {'boom': '20.35|35.40'}]}, {2: [{'https1': '40.45|60.69'}]}]}, {2: [{1: [{'https2': '15.15|40.45'}, {'boom': '20.24|45.60'}]}]}]}\n",
      "dict_values([['boom', 'boom']])\n"
     ]
    }
   ],
   "source": [
    "import collections\n",
    "\n",
    "\n",
    "def comicsTree(comics):\n",
    "    pretree = []\n",
    "    frag = []\n",
    "    for page in comdata:\n",
    "        dict0 = {}\n",
    "        dict1 = {}\n",
    "        dict2 = {}\n",
    "        all_elem = []\n",
    "        for ris in page:\n",
    "            dicts = []\n",
    "            for elem in ris:\n",
    "                dict0 = {elem[0]: elem[1] + '|' + elem[2]}\n",
    "                frag.append(elem[0])\n",
    "                dicts.append(dict0)\n",
    "            dict1 = {page.index(ris) + 1: dicts}\n",
    "            all_elem.append(dict1)\n",
    "        dict2 = {comdata.index(page) + 1: all_elem}\n",
    "        pretree.append(dict2)\n",
    "    Tree = {\"^\": pretree}\n",
    "    el = collections.Counter(frag)\n",
    "    return Tree, el\n",
    "\n",
    "\n",
    "comdata = [[[['https', '15.15', '40.45'],[\"boom\", '20.35', '35.40']], [['https1', '40.45', '60.69']]], [[['https2', '15.15', '40.45'], ['boom', '20.24', '45.60']]]]\n",
    "\n",
    "           \n",
    "a, b = comicsTree(comdata)\n",
    "print(a)\n",
    "povtory = {}\n",
    "for k, v in b.items():\n",
    "    if v >= 2:\n",
    "        povtory[v] = rd.get(v, []) + [k]\n",
    "        print(povtory.values())"
   ]
  },
  {
   "cell_type": "code",
   "execution_count": null,
   "metadata": {},
   "outputs": [],
   "source": []
  }
 ],
 "metadata": {
  "kernelspec": {
   "display_name": "Python 3",
   "language": "python",
   "name": "python3"
  },
  "language_info": {
   "codemirror_mode": {
    "name": "ipython",
    "version": 3
   },
   "file_extension": ".py",
   "mimetype": "text/x-python",
   "name": "python",
   "nbconvert_exporter": "python",
   "pygments_lexer": "ipython3",
   "version": "3.8.0"
  }
 },
 "nbformat": 4,
 "nbformat_minor": 4
}
